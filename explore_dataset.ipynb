{
 "cells": [
  {
   "cell_type": "markdown",
   "metadata": {},
   "source": [
    "**Exploring the Dataset**\n",
    "\n",
    "We use the Multi30k dataset for english - german translation."
   ]
  },
  {
   "cell_type": "code",
   "execution_count": 1,
   "metadata": {},
   "outputs": [
    {
     "name": "stderr",
     "output_type": "stream",
     "text": [
      "/opt/miniforge3/envs/nlp-experiments/lib/python3.11/site-packages/tqdm/auto.py:21: TqdmWarning: IProgress not found. Please update jupyter and ipywidgets. See https://ipywidgets.readthedocs.io/en/stable/user_install.html\n",
      "  from .autonotebook import tqdm as notebook_tqdm\n"
     ]
    }
   ],
   "source": [
    "from torchtext.datasets import multi30k, Multi30k\n",
    "\n",
    "multi30k.URL[\"train\"] = \"https://raw.githubusercontent.com/neychev/small_DL_repo/master/datasets/Multi30k/training.tar.gz\"\n",
    "multi30k.URL[\"valid\"] = \"https://raw.githubusercontent.com/neychev/small_DL_repo/master/datasets/Multi30k/validation.tar.gz\"\n",
    "multi30k.URL[\"test\"] = \"https://raw.githubusercontent.com/neychev/small_DL_repo/master/datasets/Multi30k/mmt16_task1_test.tar.gz\"\n",
    "\n",
    "data = Multi30k()\n",
    "\n"
   ]
  },
  {
   "cell_type": "code",
   "execution_count": 2,
   "metadata": {},
   "outputs": [],
   "source": [
    "train_data, val_data, test_data = data"
   ]
  },
  {
   "cell_type": "code",
   "execution_count": 3,
   "metadata": {},
   "outputs": [],
   "source": [
    "train_data = list(train_data)\n",
    "val_data = list(val_data)"
   ]
  },
  {
   "cell_type": "code",
   "execution_count": 4,
   "metadata": {},
   "outputs": [
    {
     "data": {
      "text/plain": [
       "('Zwei junge weiße Männer sind im Freien in der Nähe vieler Büsche.',\n",
       " 'Two young, White males are outside near many bushes.')"
      ]
     },
     "execution_count": 4,
     "metadata": {},
     "output_type": "execute_result"
    }
   ],
   "source": [
    "train_data[0]"
   ]
  },
  {
   "cell_type": "markdown",
   "metadata": {},
   "source": [
    "**How do we turn a text corpus into a fixed length vector?**\n",
    "\n",
    "With the Byte-Pair Encoding. Let's implement it."
   ]
  },
  {
   "cell_type": "code",
   "execution_count": 5,
   "metadata": {},
   "outputs": [],
   "source": [
    "def extract_corpus_from_data(data, language, n_sentences):\n",
    "    corpus = []\n",
    "    for i in range(n_sentences):\n",
    "        corpus.append(data[i][0 if language == \"german\" else 1])\n",
    "    return corpus\n",
    "\n",
    "N_SENTENCES = 1000\n",
    "english_corpus = extract_corpus_from_data(train_data, \"english\", N_SENTENCES)\n",
    "german_corpus = extract_corpus_from_data(train_data, \"german\", N_SENTENCES)"
   ]
  },
  {
   "cell_type": "code",
   "execution_count": 6,
   "metadata": {},
   "outputs": [],
   "source": [
    "from byte_pair_encoding import BytePairEncoder\n",
    "\n",
    "encoder_en = BytePairEncoder(\"english\", max_vocab_size=300, use_start_token=True, use_end_token=True, use_padding_token=True, max_token_len=50)"
   ]
  },
  {
   "cell_type": "code",
   "execution_count": 11,
   "metadata": {},
   "outputs": [
    {
     "data": {
      "text/plain": [
       "['Two young, White males are outside near many bushes.',\n",
       " 'Several men in hard hats are operating a giant pulley system.',\n",
       " 'A little girl climbing into a wooden playhouse.',\n",
       " 'A man in a blue shirt is standing on a ladder cleaning a window.',\n",
       " 'Two men are at the stove preparing food.']"
      ]
     },
     "execution_count": 11,
     "metadata": {},
     "output_type": "execute_result"
    }
   ],
   "source": [
    "english_corpus[:5]"
   ]
  },
  {
   "cell_type": "code",
   "execution_count": 8,
   "metadata": {},
   "outputs": [
    {
     "name": "stderr",
     "output_type": "stream",
     "text": [
      "  0%|          | 0/202 [00:00<?, ?it/s]"
     ]
    },
    {
     "name": "stderr",
     "output_type": "stream",
     "text": [
      "100%|██████████| 202/202 [00:59<00:00,  3.38it/s]\n"
     ]
    }
   ],
   "source": [
    "encoder_en.learn_vocabulary_from_corpus(english_corpus)"
   ]
  },
  {
   "cell_type": "code",
   "execution_count": 10,
   "metadata": {},
   "outputs": [
    {
     "data": {
      "text/plain": [
       "array([[  0,  41,   1, 252,  75, 100, 219,  69, 204,  65,  80,  80, 155,\n",
       "        169,  95,  95,  95,  95,  95,  95,  95,  95,  95,  95,  95,  95,\n",
       "         95,  95,  95,  95,  95,  95,  95,  95,  95,  95,  95,  95,  95,\n",
       "         95,  95,  95,  95,  95,  95,  95,  95,  95,  95,  95],\n",
       "       [  0,  41,   1, 252,  75, 100, 219,  69, 204,  65,  80,  80, 155,\n",
       "        169,  95,  95,  95,  95,  95,  95,  95,  95,  95,  95,  95,  95,\n",
       "         95,  95,  95,  95,  95,  95,  95,  95,  95,  95,  95,  95,  95,\n",
       "         95,  95,  95,  95,  95,  95,  95,  95,  95,  95,  95]])"
      ]
     },
     "execution_count": 10,
     "metadata": {},
     "output_type": "execute_result"
    }
   ],
   "source": [
    "encoder_en.encode_corpus([\"I like to eat apples.\"] * 2)"
   ]
  },
  {
   "cell_type": "code",
   "execution_count": 12,
   "metadata": {},
   "outputs": [],
   "source": [
    "encoder_de = BytePairEncoder(\"german\", max_vocab_size=300, use_start_token=True, use_end_token=True, use_padding_token=True, max_token_len=50)"
   ]
  },
  {
   "cell_type": "code",
   "execution_count": 13,
   "metadata": {},
   "outputs": [
    {
     "data": {
      "text/plain": [
       "['Zwei junge weiße Männer sind im Freien in der Nähe vieler Büsche.',\n",
       " 'Mehrere Männer mit Schutzhelmen bedienen ein Antriebsradsystem.',\n",
       " 'Ein kleines Mädchen klettert in ein Spielhaus aus Holz.',\n",
       " 'Ein Mann in einem blauen Hemd steht auf einer Leiter und putzt ein Fenster.',\n",
       " 'Zwei Männer stehen am Herd und bereiten Essen zu.']"
      ]
     },
     "execution_count": 13,
     "metadata": {},
     "output_type": "execute_result"
    }
   ],
   "source": [
    "german_corpus[:5]"
   ]
  },
  {
   "cell_type": "code",
   "execution_count": 14,
   "metadata": {},
   "outputs": [
    {
     "name": "stderr",
     "output_type": "stream",
     "text": [
      "100%|██████████| 195/195 [01:21<00:00,  2.39it/s]\n"
     ]
    }
   ],
   "source": [
    "encoder_de.learn_vocabulary_from_corpus(german_corpus)"
   ]
  },
  {
   "cell_type": "code",
   "execution_count": null,
   "metadata": {},
   "outputs": [],
   "source": []
  }
 ],
 "metadata": {
  "kernelspec": {
   "display_name": "nlp-experiments",
   "language": "python",
   "name": "python3"
  },
  "language_info": {
   "codemirror_mode": {
    "name": "ipython",
    "version": 3
   },
   "file_extension": ".py",
   "mimetype": "text/x-python",
   "name": "python",
   "nbconvert_exporter": "python",
   "pygments_lexer": "ipython3",
   "version": "3.11.5"
  },
  "orig_nbformat": 4
 },
 "nbformat": 4,
 "nbformat_minor": 2
}
